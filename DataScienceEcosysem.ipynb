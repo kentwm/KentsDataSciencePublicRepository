{
 "cells": [
  {
   "cell_type": "markdown",
   "id": "e6d8a439-8aec-4817-a8fe-356c29ddb059",
   "metadata": {},
   "source": [
    "# Data Sciecne Tools and Ecosystems"
   ]
  },
  {
   "cell_type": "markdown",
   "id": "ed49ed1b-8e8d-482e-b640-278acb2df1f4",
   "metadata": {},
   "source": [
    "In this notebook, Data Sciecne Tools and Ecosystems are summarized."
   ]
  },
  {
   "cell_type": "markdown",
   "id": "3141a176-15b9-4968-87b1-f2af521cc9e4",
   "metadata": {},
   "source": [
    "**Objectives:**\n",
    "- List Popular Lanaguages used in Data Scince\n",
    "- List Popular Libraries used in Data Sciece\n",
    "- List Common Tools used in Data Sceince\n",
    "- Format at Table in Markdown\n",
    "- Format Ordered Lists in Markdown\n",
    "- Perfroma Simple Calculations in Python"
   ]
  },
  {
   "cell_type": "markdown",
   "id": "3e0efb89-ac04-41c3-92d5-9abd3b9712c6",
   "metadata": {},
   "source": [
    "## Author ## \n",
    "Kent W. Morrison"
   ]
  },
  {
   "cell_type": "markdown",
   "id": "960355ee-818c-41ab-96c9-f6b31aaead19",
   "metadata": {},
   "source": [
    "Some of the popular languages that Data Scientists use are:\n",
    "1. Python\n",
    "2. R\n",
    "3. SQL\n",
    "4. Scala\n",
    "5. Java\n",
    "6. Julia"
   ]
  },
  {
   "cell_type": "markdown",
   "id": "ff4aa509-dc29-4037-a752-15528cf7f7d4",
   "metadata": {},
   "source": [
    "Some of the commonly used libraries used by Data scientists include:\n",
    "1. Pandas\n",
    "2. NumPy\n",
    "3. Scikit-Learn\n",
    "4. Matplotlib\n",
    "5. Seaborn\n",
    "6. TensorFlow\n",
    "7. Keras\n",
    "8. SciPy"
   ]
  },
  {
   "cell_type": "markdown",
   "id": "f435d1a6-9c88-491a-9a3f-b178c21d87e0",
   "metadata": {},
   "source": [
    "|Data Science Tools |\n",
    "|-------------------|\n",
    "| JupyterLab |\n",
    "| RStudio |\n",
    "| Apache Spark|"
   ]
  },
  {
   "cell_type": "markdown",
   "id": "26f9de78-41b6-4635-b630-7c20de8cc168",
   "metadata": {},
   "source": [
    "### Below are a few examples of evaluatig arithmetic expressions in Python"
   ]
  },
  {
   "cell_type": "code",
   "execution_count": 32,
   "id": "199ad1c5-0c4b-4f57-a757-a1f679a50516",
   "metadata": {},
   "outputs": [
    {
     "data": {
      "text/plain": [
       "17"
      ]
     },
     "execution_count": 32,
     "metadata": {},
     "output_type": "execute_result"
    }
   ],
   "source": [
    "(3*4)+5\n",
    "# This is a simple arithmetic expression to multiply then add integers"
   ]
  },
  {
   "cell_type": "code",
   "execution_count": 33,
   "id": "a52768be-5cf2-4fc7-9483-973bc72704f9",
   "metadata": {},
   "outputs": [
    {
     "data": {
      "text/plain": [
       "3.3333333333333335"
      ]
     },
     "execution_count": 33,
     "metadata": {},
     "output_type": "execute_result"
    }
   ],
   "source": [
    "200/60\n",
    "# This will convert 200 minutes to hours be dividing by 60"
   ]
  },
  {
   "cell_type": "code",
   "execution_count": null,
   "id": "f693fa07-62bd-477c-bf59-7ce1664d0df9",
   "metadata": {},
   "outputs": [],
   "source": []
  }
 ],
 "metadata": {
  "kernelspec": {
   "display_name": "Python 3 (ipykernel)",
   "language": "python",
   "name": "python3"
  },
  "language_info": {
   "codemirror_mode": {
    "name": "ipython",
    "version": 3
   },
   "file_extension": ".py",
   "mimetype": "text/x-python",
   "name": "python",
   "nbconvert_exporter": "python",
   "pygments_lexer": "ipython3",
   "version": "3.11.7"
  }
 },
 "nbformat": 4,
 "nbformat_minor": 5
}
